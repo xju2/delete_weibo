{
 "cells": [
  {
   "cell_type": "markdown",
   "metadata": {},
   "source": [
    "# Introduction\n",
    "This notebook is automated to delete all your posts and followings in **weibo**. It is inspired by a blog at [Medium](https://medium.com/@amyngyn/look-what-you-made-me-do-chrome-b85eb2a90540) about how to manipulate a website. With further due, let's get work done. System requirements: \n",
    "* python = 3.6.2\n",
    "* selenium = 3.5.0"
   ]
  },
  {
   "cell_type": "code",
   "execution_count": 9,
   "metadata": {
    "collapsed": true
   },
   "outputs": [],
   "source": [
    "import time\n",
    "from selenium import webdriver\n",
    "from selenium.webdriver.common.keys import Keys"
   ]
  },
  {
   "cell_type": "markdown",
   "metadata": {},
   "source": [
    "write-down your ID and password"
   ]
  },
  {
   "cell_type": "code",
   "execution_count": 10,
   "metadata": {
    "collapsed": true
   },
   "outputs": [],
   "source": [
    "usr_id = 'weibo@gmail.com'\n",
    "usr_pw = 'weibo2233'"
   ]
  },
  {
   "cell_type": "markdown",
   "metadata": {},
   "source": [
    "Invoke the controled web browser."
   ]
  },
  {
   "cell_type": "code",
   "execution_count": 11,
   "metadata": {
    "collapsed": true
   },
   "outputs": [],
   "source": [
    "driver = webdriver.Chrome()"
   ]
  },
  {
   "cell_type": "code",
   "execution_count": 12,
   "metadata": {
    "collapsed": true
   },
   "outputs": [],
   "source": [
    "def login(usr_id, usr_pw):\n",
    "    \"\"\"login start from sina.com.cn. \n",
    "    It would be very chaotic if you direticly go to weibo.com when you are abroad.\n",
    "    \"\"\"\n",
    "    driver.get('https://login.sina.com.cn/signup/signin.php')\n",
    "    login_id_xpath = '//*[@id=\"username\"]'\n",
    "    login_pw_xpath = '//*[@id=\"password\"]'\n",
    "    login_button_xpath = '//*[@id=\"vForm\"]/div[2]/div/ul/li[7]/div[1]/input'\n",
    "    login_id = driver.find_element_by_xpath(login_id_xpath)\n",
    "    login_pw = driver.find_element_by_xpath(login_pw_xpath)\n",
    "    login_button = driver.find_element_by_xpath(login_button_xpath)\n",
    "    login_id.send_keys(usr_id)\n",
    "    login_pw.send_keys(usr_pw)\n",
    "    login_button.click()\n",
    "    time.sleep(5)\n",
    "    \n",
    "    # then go to weibo.com\n",
    "    driver.get('https://www.weibo.com')\n",
    "    time.sleep(5)"
   ]
  },
  {
   "cell_type": "code",
   "execution_count": 13,
   "metadata": {
    "collapsed": true
   },
   "outputs": [],
   "source": [
    "def go_to_my_post():\n",
    "    my_posts_button_xpath = '//*[@id=\"v6_pl_rightmod_myinfo\"]/div/div/div[2]/ul/li[3]/a/strong'\n",
    "    my_posts_button = driver.find_element_by_xpath(my_posts_button_xpath)\n",
    "    my_posts_button.click()\n",
    "    time.sleep(5)"
   ]
  },
  {
   "cell_type": "code",
   "execution_count": 14,
   "metadata": {
    "collapsed": true
   },
   "outputs": [],
   "source": [
    "def del_me():\n",
    "    posts_arrow_xpath = '//*[@class=\"screen_box\"]/a'\n",
    "    posts_arrow = driver.find_element_by_xpath(posts_arrow_xpath)\n",
    "    posts_arrow.click()\n",
    "    time.sleep(1)\n",
    "    \n",
    "    del_button = driver.find_element_by_link_text('删除')\n",
    "    del_button.click()\n",
    "    time.sleep(1)\n",
    "    \n",
    "    confirm_page = driver.switch_to_active_element() \n",
    "    confirm_page.send_keys(Keys.ENTER)"
   ]
  },
  {
   "cell_type": "markdown",
   "metadata": {},
   "source": [
    "Following function is to **delete all your posts**, or a number of posts if num_post is speficied. "
   ]
  },
  {
   "cell_type": "code",
   "execution_count": 15,
   "metadata": {
    "collapsed": true
   },
   "outputs": [],
   "source": [
    "def delete_post(usr_id, usr_pw, num_post=-1):\n",
    "    if num_post < 0:\n",
    "        n_try = 9999\n",
    "        print(\"all posts will be deleted!\")\n",
    "    else:\n",
    "        n_try = num_post\n",
    "        print(\"{} posts will be deleted.\".format(n_try))\n",
    "\n",
    "    login(usr_id, usr_pw)\n",
    "    go_to_my_post()\n",
    "    posts_xpath = '//*[@id=\"Pl_Core_T8CustomTriColumn__3\"]/div/div/div/table/tbody/tr/td[3]/a/strong'\n",
    "    posts = driver.find_element_by_xpath(posts_xpath)\n",
    "    origin = int(posts.text)\n",
    "    print(\"before deleting\", posts.text)\n",
    "    \n",
    "    i_go = 0\n",
    "    while(i_go < origin):\n",
    "        time.sleep(1)\n",
    "        try:\n",
    "            if i_go % 10 == 0 and i_go > 0:\n",
    "                print(\"{} has been deleted\".format(i_go))\n",
    "                # driver.refresh()\n",
    "                # time.sleep(20)\n",
    "            del_me()\n",
    "            i_go += 1\n",
    "        except:\n",
    "            print(\"failed, try again.\")\n",
    "    \n",
    "    time.sleep(5)\n",
    "    driver.refresh()\n",
    "    time.sleep(5)\n",
    "    posts = driver.find_element_by_xpath(posts_xpath)\n",
    "    print(\"total posts left\", posts.text)"
   ]
  },
  {
   "cell_type": "code",
   "execution_count": 16,
   "metadata": {
    "collapsed": true
   },
   "outputs": [],
   "source": [
    "def unfollow(usr_id, usr_pw):\n",
    "    login(usr_id, usr_pw)\n",
    "    go_to_my_post()\n",
    "    follow_button_xpath = '//*[@id=\"Pl_Core_T8CustomTriColumn__3\"]/div/div/div/table/tbody/tr/td[1]/a/strong'\n",
    "    follow_button = driver.find_element_by_xpath(follow_button_xpath)\n",
    "    \n",
    "    total_follow = int(follow_button.text)\n",
    "    follow_button.click()"
   ]
  },
  {
   "cell_type": "code",
   "execution_count": 17,
   "metadata": {
    "collapsed": true
   },
   "outputs": [],
   "source": [
    "def unfollow_lastest():\n",
    "    ls_btn_xpath = '//*[@id=\"Pl_Official_RelationMyfollow__93\"]/div/div/div/div[3]/ul/li[1]/div[1]/div[2]/div[5]/p/a[2]/em'\n",
    "    ls_btn = driver.find_element_by_xpath(ls_btn_xpath)\n",
    "    ls_btn.click()\n",
    "    \n",
    "    unfollow_button = driver.find_element_by_link_text('取消关注')\n",
    "    unfollow_button.click()\n",
    "    \n",
    "    time.sleep(0.5)\n",
    "    confirm_page = driver.switch_to_active_element() \n",
    "    confirm_page.send_keys(Keys.ENTER)"
   ]
  },
  {
   "cell_type": "markdown",
   "metadata": {},
   "source": [
    "Delete one post"
   ]
  },
  {
   "cell_type": "code",
   "execution_count": 18,
   "metadata": {
    "collapsed": true
   },
   "outputs": [],
   "source": [
    "delete_post(usr_id, usr_pw, 1)"
   ]
  }
 ],
 "metadata": {
  "kernelspec": {
   "display_name": "Python 3",
   "language": "python",
   "name": "python3"
  },
  "language_info": {
   "codemirror_mode": {
    "name": "ipython",
    "version": 3
   },
   "file_extension": ".py",
   "mimetype": "text/x-python",
   "name": "python",
   "nbconvert_exporter": "python",
   "pygments_lexer": "ipython3",
   "version": "3.6.2"
  }
 },
 "nbformat": 4,
 "nbformat_minor": 2
}
